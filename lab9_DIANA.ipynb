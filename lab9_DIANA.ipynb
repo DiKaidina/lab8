{
 "cells": [
  {
   "cell_type": "code",
   "execution_count": 6,
   "id": "f422b672",
   "metadata": {},
   "outputs": [
    {
     "name": "stdout",
     "output_type": "stream",
     "text": [
      "10\n",
      "Hello Anna Popova!\n"
     ]
    }
   ],
   "source": [
    "#1\n",
    "\n",
    "def functional_func (name, surname):\n",
    "    full_name = name + surname\n",
    "    total_symbols = len(full_name)\n",
    "    return total_symbols\n",
    "\n",
    "def non_functional_func(name, surname):\n",
    "    print(f\"Hello {name} {surname}!\")\n",
    "    \n",
    "print(functional_func(\"Anna\", \"Popova\"))\n",
    "non_functional_func(\"Anna\", \"Popova\")"
   ]
  },
  {
   "cell_type": "code",
   "execution_count": 9,
   "id": "bed68fbd",
   "metadata": {},
   "outputs": [
    {
     "name": "stdout",
     "output_type": "stream",
     "text": [
      "(3, 4, 3.14)\n"
     ]
    }
   ],
   "source": [
    "#2\n",
    "def func_2(param = 1):\n",
    "    _dict = {\"option_1\":\"dictionary\"}\n",
    "    _lst = [2, 3, 4]\n",
    "    _tuple = (3, 4, 3.14)\n",
    "    \n",
    "    if param == 1:\n",
    "        return _dict\n",
    "    if param == 2:\n",
    "        return _lst\n",
    "    else:\n",
    "        return _tuple\n",
    "    \n",
    "print(func_2(3))\n",
    "        "
   ]
  },
  {
   "cell_type": "code",
   "execution_count": 16,
   "id": "e22d8361",
   "metadata": {},
   "outputs": [
    {
     "name": "stdout",
     "output_type": "stream",
     "text": [
      "[1, 4, 9, 16, 25]\n"
     ]
    }
   ],
   "source": [
    "#4\n",
    "#map\n",
    "\n",
    "lst = [1, 2, 3, 4, 5]\n",
    "\n",
    "def square (lst):\n",
    "    res = list(map(lambda x: x**2, lst))\n",
    "    print(res)\n",
    "    \n",
    "square(lst)"
   ]
  },
  {
   "cell_type": "code",
   "execution_count": 17,
   "id": "6dc2b832",
   "metadata": {},
   "outputs": [
    {
     "name": "stdout",
     "output_type": "stream",
     "text": [
      "[1, 4, 9, 16, 25]\n"
     ]
    }
   ],
   "source": [
    "#4 alternative\n",
    "\n",
    "lst = [1,2,3,4,5]\n",
    "\n",
    "def square(x):\n",
    "    return x**2\n",
    "\n",
    "res = list(map(square, lst))\n",
    "print(res)"
   ]
  },
  {
   "cell_type": "code",
   "execution_count": 24,
   "id": "7d76e510",
   "metadata": {},
   "outputs": [
    {
     "name": "stdout",
     "output_type": "stream",
     "text": [
      "[1, 2, 3, 4, 5]\n"
     ]
    }
   ],
   "source": [
    "#filter\n",
    "import statistics\n",
    "def positive(lst):\n",
    "    return lst > 0\n",
    "\n",
    "lst = [1,2,3,4,5]\n",
    "\n",
    "res = list(filter(positive, lst))\n",
    "print(res)"
   ]
  },
  {
   "cell_type": "code",
   "execution_count": 26,
   "id": "142c36ae",
   "metadata": {},
   "outputs": [
    {
     "name": "stdout",
     "output_type": "stream",
     "text": [
      "0\n"
     ]
    }
   ],
   "source": [
    "#reduce without lambda\n",
    "\n",
    "from functools import reduce\n",
    "\n",
    "def _min(x, y):\n",
    "    if x > y:\n",
    "        return y\n",
    "    else:\n",
    "        return x\n",
    "    \n",
    "lst = [1,2,0,5,3]\n",
    "\n",
    "print(reduce(_min, lst))"
   ]
  },
  {
   "cell_type": "code",
   "execution_count": 27,
   "id": "48b3aa76",
   "metadata": {},
   "outputs": [
    {
     "name": "stdout",
     "output_type": "stream",
     "text": [
      "0\n"
     ]
    }
   ],
   "source": [
    "#with lambda\n",
    "\n",
    "from functools import reduce\n",
    "\n",
    "lst = [1,2,0,5,3]\n",
    "\n",
    "print(reduce(lambda x, y: x if x < y else y, lst ))"
   ]
  },
  {
   "cell_type": "code",
   "execution_count": 7,
   "id": "d91c2181",
   "metadata": {},
   "outputs": [
    {
     "data": {
      "text/plain": [
       "1500"
      ]
     },
     "execution_count": 7,
     "metadata": {},
     "output_type": "execute_result"
    }
   ],
   "source": [
    "#task4\n",
    "#coordinates of square\n",
    "\n",
    "x1,y1 = (43.194677, 76.881797) #Аль-Фараби - Саина\n",
    "x2,y2 = (43.245815, 76.837811) #Саина - Ташкентская\n",
    "x3,y3 = (43.271120, 76.953491) #Ташкентская - Достык \n",
    "x4,y4 = (43.228688, 76.960492) #Достык - Аль-Фараби\n",
    "\n",
    "def delivery(street_name, x, y, cost):\n",
    "    min_x = min(x1, x2, x3, x4)\n",
    "    max_x = max(x1, x2, x3, x4)\n",
    "    min_y = min(y1, y2, y3, y4)\n",
    "    max_y = max(y1, y2, y3, y4)\n",
    "    if x >= min_x and x <= max_x and y >= min_y and y < max_y:\n",
    "        if cost < 10000:\n",
    "            return cost + 500\n",
    "        else:\n",
    "            return cost\n",
    "    else:\n",
    "        return cost + 1000\n",
    "\n",
    "delivery(\"Манаса\",43.198, 76.954, 1000)"
   ]
  },
  {
   "cell_type": "code",
   "execution_count": 18,
   "id": "6d7019c5",
   "metadata": {},
   "outputs": [
    {
     "name": "stdout",
     "output_type": "stream",
     "text": [
      "9\n"
     ]
    }
   ],
   "source": [
    "#если функции не известны\n",
    "#функции h, g - задаются на этапе вызова с помощью анонимной функции \n",
    "def outer(f):\n",
    "    def middle(g):\n",
    "        def inner(x):\n",
    "            return f(g(x))\n",
    "        return inner\n",
    "    return middle\n",
    "\n",
    "\n",
    "res = outer(lambda h: h**2)(lambda g: g + 1)(2)\n",
    "print(res)\n",
    "\n"
   ]
  },
  {
   "cell_type": "code",
   "execution_count": 31,
   "id": "9f00d914",
   "metadata": {},
   "outputs": [
    {
     "name": "stdout",
     "output_type": "stream",
     "text": [
      "10\n"
     ]
    }
   ],
   "source": [
    "#если бы функции были известны \n",
    "\n",
    "def outer(a):\n",
    "    def middle(b):\n",
    "        def inner(c):\n",
    "            return a*b + c  #действие над аргументами прописывается явно в return\n",
    "        return inner\n",
    "    return middle\n",
    "\n",
    "res = outer(2)(3)(4)\n",
    "print(res)"
   ]
  },
  {
   "cell_type": "code",
   "execution_count": null,
   "id": "8ba64c01",
   "metadata": {},
   "outputs": [],
   "source": []
  },
  {
   "cell_type": "code",
   "execution_count": null,
   "id": "b4ce8bd4",
   "metadata": {},
   "outputs": [],
   "source": []
  },
  {
   "cell_type": "code",
   "execution_count": null,
   "id": "52eb0de4",
   "metadata": {},
   "outputs": [],
   "source": []
  }
 ],
 "metadata": {
  "kernelspec": {
   "display_name": "Python 3 (ipykernel)",
   "language": "python",
   "name": "python3"
  },
  "language_info": {
   "codemirror_mode": {
    "name": "ipython",
    "version": 3
   },
   "file_extension": ".py",
   "mimetype": "text/x-python",
   "name": "python",
   "nbconvert_exporter": "python",
   "pygments_lexer": "ipython3",
   "version": "3.9.12"
  }
 },
 "nbformat": 4,
 "nbformat_minor": 5
}
