{
 "cells": [
  {
   "cell_type": "code",
   "execution_count": 1,
   "metadata": {
    "collapsed": true
   },
   "outputs": [
    {
     "data": {
      "text/plain": "130"
     },
     "metadata": {},
     "output_type": "display_data"
    },
    {
     "data": {
      "text/plain": "[0, 1, 2, 3, 4, 5, 6, 7, 8, 9]"
     },
     "metadata": {},
     "output_type": "display_data"
    },
    {
     "name": "stdout",
     "output_type": "stream",
     "text": [
      "hello\n"
     ]
    }
   ],
   "source": [
    "# Код Валентайна\n",
    "'''\n",
    "Напишите функциональную и не функциональную функцию, и разберите отличие между ними.\n",
    "'''\n",
    "# Функциональная функция\n",
    "def sum(a:int, b:int): return a + b\n",
    "def gen(): return [x for x in range(10)]\n",
    "\n",
    "# Не функциональные функции\n",
    "def print_hello(): print(\"hello\")\n",
    "def nothing(): pass\n",
    "\n",
    "display(sum(10, 120))\n",
    "display(gen())\n",
    "print_hello()\n",
    "nothing()"
   ]
  },
  {
   "cell_type": "code",
   "execution_count": 10,
   "outputs": [
    {
     "data": {
      "text/plain": "([1, 4, 7, 10, 13, 16, 19], {'This', 'is', 'tuple'}, {'Name': 'Valentin'})"
     },
     "execution_count": 10,
     "metadata": {},
     "output_type": "execute_result"
    }
   ],
   "source": [
    "'''\n",
    "Напишите функцию в результате которая возвращает список, кортеж\n",
    "и словарь. Пример должен быть индивидуальным.\n",
    "'''\n",
    "def get_list(): return list(range(1, 20, 3))\n",
    "def get_tuple(): return {'This', 'is', 'tuple'}\n",
    "def get_dict(): return {'Name':'Valentin'}\n",
    "def get_all(): return get_list(), get_tuple(), get_dict()\n",
    "get_all()"
   ],
   "metadata": {
    "collapsed": false
   }
  },
  {
   "cell_type": "code",
   "execution_count": 26,
   "outputs": [
    {
     "name": "stdout",
     "output_type": "stream",
     "text": [
      "[1, 4, 9, 16, 25, 36, 49, 64, 81, 100, 121, 144, 169, 196, 225, 256, 289, 324, 361]\n"
     ]
    },
    {
     "data": {
      "text/plain": "[2, 3, 5, 7, 11, 13, 17, 19]"
     },
     "metadata": {},
     "output_type": "display_data"
    },
    {
     "data": {
      "text/plain": "1"
     },
     "metadata": {},
     "output_type": "display_data"
    }
   ],
   "source": [
    "'''\n",
    "Приведите свой пример с использованием функций Map, Filter и\n",
    "Reduce. Выясните отличия.\n",
    "map - применяет переданную функцию к каждому элементу списка\n",
    "filter - фильтруе элементы списка по переданной функции\n",
    "reduce - применяет переданную функцию к ближайшим парам списка, (1,2,3,4) => (1+2, 3,4) => (1+2+3, 4) => (1+2+3+4)\n",
    "'''\n",
    "from functools import reduce\n",
    "num = list(range(1, 20))\n",
    "def isPrime(num):return num > 1 and all(num % i for i in range(2, int(num**0.5)+1))\n",
    "def sq(_list):return list(map(lambda x: x*x, _list))\n",
    "def getSimpleNum(_list):return list(filter(isPrime, _list))\n",
    "def getSum(_list): return reduce(lambda x, y: x**y, _list)\n",
    "\n",
    "print(sq(num))\n",
    "display(getSimpleNum(num))\n",
    "display(getSum(num))"
   ],
   "metadata": {
    "collapsed": false
   }
  },
  {
   "cell_type": "code",
   "execution_count": 99,
   "outputs": [
    {
     "name": "stdout",
     "output_type": "stream",
     "text": [
      "Адрес: улица Жайлы, 6\n",
      "Общая сумма: 101000тг, сумма доставки состовляет 1000тг и уже включина в общую стоимость.\n",
      "Адрес: ул. Тажибаевой 1, Алматы 050000\n",
      "Общая сумма: 10500тг, сумма доставки состовляет 500тг и уже включина в общую стоимость.\n",
      "Адрес: ​бульвар Бухар жырау, 36 Коктем-2 м-н, Бостандық район, Алматы, 050040/A15A0F8\n"
     ]
    },
    {
     "ename": "AttributeError",
     "evalue": "'NoneType' object has no attribute 'latitude'",
     "output_type": "error",
     "traceback": [
      "\u001B[0;31m---------------------------------------------------------------------------\u001B[0m",
      "\u001B[0;31mAttributeError\u001B[0m                            Traceback (most recent call last)",
      "Cell \u001B[0;32mIn[99], line 30\u001B[0m\n\u001B[1;32m     28\u001B[0m cost \u001B[38;5;241m=\u001B[39m \u001B[38;5;28mint\u001B[39m(\u001B[38;5;28minput\u001B[39m(\u001B[38;5;124m'\u001B[39m\u001B[38;5;124mВведите цену товара: \u001B[39m\u001B[38;5;124m'\u001B[39m))\n\u001B[1;32m     29\u001B[0m \u001B[38;5;28mprint\u001B[39m(\u001B[38;5;124mf\u001B[39m\u001B[38;5;124m'\u001B[39m\u001B[38;5;124mАдрес: \u001B[39m\u001B[38;5;132;01m{\u001B[39;00maddress\u001B[38;5;132;01m}\u001B[39;00m\u001B[38;5;124m'\u001B[39m)\n\u001B[0;32m---> 30\u001B[0m \u001B[38;5;28;01mif\u001B[39;00m \u001B[43minSquere\u001B[49m\u001B[43m(\u001B[49m\u001B[43maddress\u001B[49m\u001B[43m)\u001B[49m:\n\u001B[1;32m     31\u001B[0m     \u001B[38;5;28;01mif\u001B[39;00m cost \u001B[38;5;241m>\u001B[39m \u001B[38;5;241m10000\u001B[39m:\n\u001B[1;32m     32\u001B[0m         \u001B[38;5;28mprint\u001B[39m(\u001B[38;5;124mf\u001B[39m\u001B[38;5;124m'\u001B[39m\u001B[38;5;124mОбщая сумма: \u001B[39m\u001B[38;5;132;01m{\u001B[39;00mcost\u001B[38;5;132;01m}\u001B[39;00m\u001B[38;5;124mтг, Доставка бесплатна.\u001B[39m\u001B[38;5;124m'\u001B[39m)\n",
      "Cell \u001B[0;32mIn[99], line 20\u001B[0m, in \u001B[0;36minSquere\u001B[0;34m(address)\u001B[0m\n\u001B[1;32m     18\u001B[0m geolocator \u001B[38;5;241m=\u001B[39m Nominatim(user_agent\u001B[38;5;241m=\u001B[39m\u001B[38;5;124m\"\u001B[39m\u001B[38;5;124mMozilla/5.0 (platform; rv:geckoversion) Gecko/geckotrail Firefox/firefoxversion\u001B[39m\u001B[38;5;124m\"\u001B[39m)\n\u001B[1;32m     19\u001B[0m location \u001B[38;5;241m=\u001B[39m geolocator\u001B[38;5;241m.\u001B[39mgeocode(address)\n\u001B[0;32m---> 20\u001B[0m lat, long \u001B[38;5;241m=\u001B[39m \u001B[43mlocation\u001B[49m\u001B[38;5;241;43m.\u001B[39;49m\u001B[43mlatitude\u001B[49m, location\u001B[38;5;241m.\u001B[39mlongitude\n\u001B[1;32m     21\u001B[0m \u001B[38;5;66;03m# print(location.address, location.latitude, location.longitude)\u001B[39;00m\n\u001B[1;32m     22\u001B[0m \u001B[38;5;28;01mif\u001B[39;00m \u001B[38;5;28mmin\u001B[39m(x1,x2,x3,x4) \u001B[38;5;241m<\u001B[39m\u001B[38;5;241m=\u001B[39m lat \u001B[38;5;241m<\u001B[39m\u001B[38;5;241m=\u001B[39m \u001B[38;5;28mmax\u001B[39m(x1,x2,x3,x4):\n",
      "\u001B[0;31mAttributeError\u001B[0m: 'NoneType' object has no attribute 'latitude'"
     ]
    }
   ],
   "source": [
    "'''\n",
    "Расчет стоимости доставки:\n",
    "Для курьерской компании в Алматы необходимо сделать расчет доставки.\n",
    "В квадрате Аль-Фараби -Саина-Ташентского-Достык стоимость 500тг\n",
    "если цена товара ниже 10тыс. Если выше 10тыс то бесплатно. За пределы\n",
    "квадрата 1000тг если цена товара до 10тыс, если выше то 1000тг.\n",
    "Напишите функцию, принимающую в качестве параметра наименование\n",
    "улицы и стоимость товара и возвращающую общую сумму доставки.\n",
    "'''\n",
    "from geopy.geocoders import Nominatim\n",
    "def inSquere(address):\n",
    "    # Задаем границы квадрата\n",
    "    x1, y1 = (43.24027391938146, 76.83290661190074)\n",
    "    x2, y2 = (43.26732742381423, 76.95370149315282)\n",
    "    x3, y3 = (43.224360847974495, 76.97063952078226)\n",
    "    x4, y4 = (43.18753918616578, 76.87554883935381)\n",
    "    # Создаем объект геокодера Nominatim\n",
    "    geolocator = Nominatim(user_agent=\"Mozilla/5.0 (platform; rv:geckoversion) Gecko/geckotrail Firefox/firefoxversion\")\n",
    "    location = geolocator.geocode(address)\n",
    "    lat, long = location.latitude, location.longitude\n",
    "    # print(location.address, location.latitude, location.longitude)\n",
    "    if min(x1,x2,x3,x4) <= lat <= max(x1,x2,x3,x4):\n",
    "        if min(y1,y2,y3,y4) <= long <= max(y1,y2,y3,y4):\n",
    "            return True\n",
    "    return False\n",
    "for x in range(3):\n",
    "    address = input('Введите адрес: ')\n",
    "    cost = int(input('Введите цену товара: '))\n",
    "    print(f'Адрес: {address}')\n",
    "    if inSquere(address):\n",
    "        if cost > 10000:\n",
    "            print(f'Общая сумма: {cost}тг, Доставка бесплатна.')\n",
    "        else:\n",
    "            print(f'Общая сумма: {cost + 500}тг, сумма доставки состовляет 500тг и уже включина в общую стоимость.')\n",
    "    else:\n",
    "        print(f'Общая сумма: {cost + 1000}тг, сумма доставки состовляет 1000тг и уже включина в общую стоимость.')\n"
   ],
   "metadata": {
    "collapsed": false
   }
  },
  {
   "cell_type": "code",
   "execution_count": 84,
   "outputs": [
    {
     "name": "stdout",
     "output_type": "stream",
     "text": [
      "20\n"
     ]
    },
    {
     "data": {
      "text/plain": "2.0"
     },
     "metadata": {},
     "output_type": "display_data"
    }
   ],
   "source": [
    "'''\n",
    "Вызвать функцию внутри функции:\n",
    "Напишите функцию, которая принимает на вход два аргумента - функции\n",
    "f и g - и возвращает новую функцию h(x), которая является композицией\n",
    "функций f(g(x)). Однако, функции f и g неизвестны заранее и должны\n",
    "задаваться пользователем в процессе работы программы\n",
    "'''\n",
    "def superFunc(f, g):\n",
    "    def wrapper(*args, **kwargs):\n",
    "        return f(g(*args, **kwargs))\n",
    "    return wrapper\n",
    "def f(a):return a*10\n",
    "def g(a,b):return a*b\n",
    "s = superFunc(f, g)\n",
    "print(s(1,2))\n",
    "\n",
    "s = superFunc(lambda x: x/10, lambda x, y: x*y)\n",
    "display(s(1, 20))"
   ],
   "metadata": {
    "collapsed": false
   }
  },
  {
   "cell_type": "code",
   "execution_count": null,
   "outputs": [],
   "source": [],
   "metadata": {
    "collapsed": false
   }
  }
 ],
 "metadata": {
  "kernelspec": {
   "display_name": "Python 3",
   "language": "python",
   "name": "python3"
  },
  "language_info": {
   "codemirror_mode": {
    "name": "ipython",
    "version": 2
   },
   "file_extension": ".py",
   "mimetype": "text/x-python",
   "name": "python",
   "nbconvert_exporter": "python",
   "pygments_lexer": "ipython2",
   "version": "2.7.6"
  }
 },
 "nbformat": 4,
 "nbformat_minor": 0
}
